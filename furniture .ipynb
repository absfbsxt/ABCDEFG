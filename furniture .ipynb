{
 "cells": [
  {
   "cell_type": "code",
   "execution_count": 1,
   "metadata": {},
   "outputs": [],
   "source": [
    "import math\n",
    "from heapq import nsmallest\n",
    "import math\n",
    "import array\n",
    "import random\n",
    "import copy\n",
    "\n",
    "import matplotlib\n",
    "from matplotlib import colors\n",
    "import numpy as np\n",
    "import matplotlib.pyplot as plt\n",
    "from matplotlib.collections import PatchCollection\n",
    "%matplotlib inline\n",
    "\n",
    "# import pyvisgraph as pvg\n",
    "import shapely.geometry.polygon as sgp\n",
    "import shapely.geometry.linestring as sgls\n",
    "import shapely.geometry.point as spt\n",
    "import shapely.affinity as saf\n",
    "from shapely import geometry\n",
    "\n",
    "\n",
    "from Rectangle import Rectangle\n",
    "from Point import Point\n",
    "import baseClass\n",
    "from baseClass import baseParent, Room , Furniture, Group"
   ]
  },
  {
   "cell_type": "code",
   "execution_count": 2,
   "metadata": {
    "code_folding": [
     0,
     2
    ]
   },
   "outputs": [],
   "source": [
    "def plot_graph(grid):\n",
    "    \"\"\"Plot numpy 2d Grid\"\"\"\n",
    "    cmap = colors.ListedColormap(['black', 'white', 'red', 'blue', 'orange', 'yellow', 'green', 'purple', 'brown',\n",
    "                                  'gold', 'gray', 'navy', 'firebrick', 'khaki', 'olive', 'lime', 'teal', 'indigo', 'magenta', 'pink'])\n",
    "    bounds = [0, 10, 20, 30, 40, 50, 60, 70, 80, 90, 100]\n",
    "    # randomly draw\n",
    "    norm = colors.BoundaryNorm(bounds, cmap.N)\n",
    "    gridx, gridy = grid.shape\n",
    "    plt.ylim(0, gridx)\n",
    "    plt.imshow(grid, cmap=cmap, norm=norm)\n",
    "\n",
    "\n",
    "def plot_room(redAreas, room):\n",
    "    \"\"\"Convert Room red areas to be numpy 2d grid\"\"\"\n",
    "    grid = np.zeros((room.top_right.x, room.top_right.y))\n",
    "    temp = 12\n",
    "    for item in room.redAreas:\n",
    "        x1 = int(item[\"point\"].x)\n",
    "        y1 = int(item[\"point\"].y)\n",
    "        x2 = x1 + int(item[\"furniture\"].top_right.x)\n",
    "        y2 = y1 + int(item[\"furniture\"].top_right.y)\n",
    "        grid[x1:x2, y1:y2] = temp\n",
    "        temp = temp+10\n",
    "        \n",
    "    plot_graph(np.transpose(grid))"
   ]
  },
  {
   "cell_type": "code",
   "execution_count": 3,
   "metadata": {
    "code_folding": [
     0
    ]
   },
   "outputs": [],
   "source": [
    "def randomly_change(curr_room):\n",
    "    \n",
    "   \n",
    "\n",
    "    room = Room(curr_room.bottom_left,curr_room.top_right, curr_room.name\n",
    "               ,curr_room.object_importance)\n",
    "    room.redAreas = copy.deepcopy(curr_room.redAreas)\n",
    "\n",
    "\n",
    "    change = random.randint(1,6)\n",
    "    item_index = random.randint(0,5)\n",
    "    if(change == 1):\n",
    "        room.pos_change(item_index, random.randint(0,10))\n",
    "            #print(\"Item Position Changed\")\n",
    "#     change = random.randint(1,10)\n",
    "    if(change == 2):\n",
    "        room.rotate(item_index)\n",
    "            #print(\"Item Rotated\")\n",
    "\n",
    "#     change = random.randint(1,10)\n",
    "    if(change == 3):\n",
    "        room.align(room.redAreas[item_index][\"furniture\"], \"object\")\n",
    "            #print(\"item Aligned to object\")\n",
    "\n",
    "#     change = random.randint(1,10)\n",
    "    if(change == 4):\n",
    "        room.align(room.redAreas[item_index][\"furniture\"], \"wall\")\n",
    "            #print(\"item Aligned to wall\")\n",
    "\n",
    "#     change = random.randint(1,10)\n",
    "    if(change == 5):\n",
    "        room.snap(room.redAreas[item_index][\"furniture\"], \"wall\")\n",
    "            #print(\"item Snapped to wall\")\n",
    "\n",
    "#     change = random.randint(1,10)\n",
    "    if(change == 6):\n",
    "        room.snap(room.redAreas[item_index][\"furniture\"], \"object\")\n",
    "                #print(\"item Snapped to object\")\n",
    "    \n",
    "    return room               "
   ]
  },
  {
   "cell_type": "code",
   "execution_count": null,
   "metadata": {
    "code_folding": [
     31,
     38,
     54,
     67,
     107,
     133,
     155,
     176,
     194,
     209,
     244,
     277,
     327,
     374,
     419,
     446,
     465,
     483,
     508,
     512,
     530,
     558,
     588,
     610,
     646,
     683,
     736,
     759,
     779,
     807,
     834,
     860,
     913,
     1104
    ]
   },
   "outputs": [],
   "source": []
  },
  {
   "cell_type": "code",
   "execution_count": 1,
   "metadata": {
    "code_folding": []
   },
   "outputs": [
    {
     "ename": "NameError",
     "evalue": "name 'Furniture' is not defined",
     "output_type": "error",
     "traceback": [
      "\u001b[0;31m---------------------------------------------------------------------------\u001b[0m",
      "\u001b[0;31mNameError\u001b[0m                                 Traceback (most recent call last)",
      "\u001b[0;32m<ipython-input-1-96520dc377f5>\u001b[0m in \u001b[0;36m<module>\u001b[0;34m\u001b[0m\n\u001b[1;32m      1\u001b[0m \u001b[0;31m#object_importance= np.array([1,1,3])\u001b[0m\u001b[0;34m\u001b[0m\u001b[0;34m\u001b[0m\u001b[0;34m\u001b[0m\u001b[0m\n\u001b[1;32m      2\u001b[0m \u001b[0;31m#r1=Room(Point(0,0), Point(100,100), 'Bed Room',object_importance)\u001b[0m\u001b[0;34m\u001b[0m\u001b[0;34m\u001b[0m\u001b[0;34m\u001b[0m\u001b[0m\n\u001b[0;32m----> 3\u001b[0;31m \u001b[0mp1\u001b[0m\u001b[0;34m=\u001b[0m\u001b[0mFurniture\u001b[0m\u001b[0;34m(\u001b[0m\u001b[0mPoint\u001b[0m\u001b[0;34m(\u001b[0m\u001b[0;36m0\u001b[0m\u001b[0;34m,\u001b[0m\u001b[0;36m0\u001b[0m\u001b[0;34m)\u001b[0m\u001b[0;34m,\u001b[0m \u001b[0mPoint\u001b[0m\u001b[0;34m(\u001b[0m\u001b[0;36m10\u001b[0m\u001b[0;34m,\u001b[0m\u001b[0;36m12\u001b[0m\u001b[0;34m)\u001b[0m\u001b[0;34m,\u001b[0m \u001b[0;34m'Table'\u001b[0m\u001b[0;34m,\u001b[0m\u001b[0;36m1\u001b[0m\u001b[0;34m)\u001b[0m\u001b[0;34m\u001b[0m\u001b[0;34m\u001b[0m\u001b[0m\n\u001b[0m\u001b[1;32m      4\u001b[0m \u001b[0mp2\u001b[0m\u001b[0;34m=\u001b[0m\u001b[0mFurniture\u001b[0m\u001b[0;34m(\u001b[0m\u001b[0mPoint\u001b[0m\u001b[0;34m(\u001b[0m\u001b[0;36m0\u001b[0m\u001b[0;34m,\u001b[0m\u001b[0;36m0\u001b[0m\u001b[0;34m)\u001b[0m\u001b[0;34m,\u001b[0m \u001b[0mPoint\u001b[0m\u001b[0;34m(\u001b[0m\u001b[0;36m4\u001b[0m\u001b[0;34m,\u001b[0m\u001b[0;36m6\u001b[0m\u001b[0;34m)\u001b[0m\u001b[0;34m,\u001b[0m \u001b[0;34m'Chair'\u001b[0m\u001b[0;34m,\u001b[0m\u001b[0;36m2\u001b[0m\u001b[0;34m,\u001b[0m \u001b[0madditional_attr\u001b[0m \u001b[0;34m=\u001b[0m \u001b[0;34m{\u001b[0m\u001b[0;34m'snap_direct'\u001b[0m\u001b[0;34m:\u001b[0m\u001b[0;34m[\u001b[0m\u001b[0;34m'back'\u001b[0m\u001b[0;34m]\u001b[0m\u001b[0;34m}\u001b[0m\u001b[0;34m)\u001b[0m\u001b[0;34m\u001b[0m\u001b[0;34m\u001b[0m\u001b[0m\n\u001b[1;32m      5\u001b[0m \u001b[0mp3\u001b[0m\u001b[0;34m=\u001b[0m\u001b[0mFurniture\u001b[0m\u001b[0;34m(\u001b[0m\u001b[0mPoint\u001b[0m\u001b[0;34m(\u001b[0m\u001b[0;36m0\u001b[0m\u001b[0;34m,\u001b[0m\u001b[0;36m0\u001b[0m\u001b[0;34m)\u001b[0m\u001b[0;34m,\u001b[0m \u001b[0mPoint\u001b[0m\u001b[0;34m(\u001b[0m\u001b[0;36m30\u001b[0m\u001b[0;34m,\u001b[0m\u001b[0;36m40\u001b[0m\u001b[0;34m)\u001b[0m\u001b[0;34m,\u001b[0m \u001b[0;34m'Bed'\u001b[0m\u001b[0;34m,\u001b[0m\u001b[0;36m3\u001b[0m\u001b[0;34m)\u001b[0m\u001b[0;34m\u001b[0m\u001b[0;34m\u001b[0m\u001b[0m\n",
      "\u001b[0;31mNameError\u001b[0m: name 'Furniture' is not defined"
     ]
    }
   ],
   "source": [
    "#object_importance= np.array([1,1,3])\n",
    "#r1=Room(Point(0,0), Point(100,100), 'Bed Room',object_importance)\n",
    "p1=Furniture(Point(0,0), Point(10,12), 'Table',1)\n",
    "p2=Furniture(Point(0,0), Point(4,6), 'Chair',2, additional_attr = {'snap_direct':['back']})\n",
    "p3=Furniture(Point(0,0), Point(30,40), 'Bed',3)\n",
    "p4=Furniture(Point(0,0), Point(10,12), 'Table',1)\n",
    "p5=Furniture(Point(0,0), Point(8,12), 'Chair',2)\n",
    "p6=Furniture(Point(0,0), Point(20,40), 'Bed',3)\n",
    "furniture_list = [p1, p2, p3, p4, p5, p6]\n",
    "# furniture_list = [p2]  "
   ]
  },
  {
   "cell_type": "code",
   "execution_count": 5,
   "metadata": {},
   "outputs": [],
   "source": [
    "object_importance= np.array([1,1,3])\n",
    "fittest_room = Room(Point(0,0), Point(100,100), 'Bed Room',object_importance)\n",
    "# fittest_room.fit(furniture_list)\n",
    "# add furnitures into room\n",
    "fittest_room.fit(furniture_list)\n"
   ]
  },
  {
   "cell_type": "code",
   "execution_count": null,
   "metadata": {},
   "outputs": [],
   "source": []
  },
  {
   "cell_type": "code",
   "execution_count": 6,
   "metadata": {},
   "outputs": [
    {
     "data": {
      "image/png": "[encoded data removed]",
      "text/plain": [
       "<Figure size 432x288 with 1 Axes>"
      ]
     },
     "metadata": {
      "needs_background": "light"
     },
     "output_type": "display_data"
    }
   ],
   "source": [
    "plot_room(fittest_room.redAreas, fittest_room)"
   ]
  },
  {
   "cell_type": "code",
   "execution_count": 7,
   "metadata": {},
   "outputs": [],
   "source": [
    "fittest_room.squeeze()"
   ]
  },
  {
   "cell_type": "code",
   "execution_count": 8,
   "metadata": {},
   "outputs": [],
   "source": [
    "fittest_room.spread()"
   ]
  },
  {
   "cell_type": "code",
   "execution_count": 9,
   "metadata": {},
   "outputs": [
    {
     "name": "stderr",
     "output_type": "stream",
     "text": [
      "/home/absfbsxt/furniture/Furniture-Optimization/baseClass.py:1099: FutureWarning: `rcond` parameter will change to the default of machine precision times ``max(M, N)`` where M and N are the input matrix dimensions.\n",
      "To use the future default and silence this warning we advise to pass `rcond=None`, to keep using the old, explicitly pass `rcond=-1`.\n",
      "  m, c = lstsq(A, y_coords)[0]\n"
     ]
    }
   ],
   "source": [
    "fittest_room.blocker((3,5),(10,10))"
   ]
  },
  {
   "cell_type": "code",
   "execution_count": 10,
   "metadata": {},
   "outputs": [
    {
     "data": {
      "image/png": "[encoded data removed]",
      "text/plain": [
       "<Figure size 432x288 with 1 Axes>"
      ]
     },
     "metadata": {
      "needs_background": "light"
     },
     "output_type": "display_data"
    }
   ],
   "source": [
    "plot_room(fittest_room.redAreas, fittest_room)"
   ]
  },
  {
   "cell_type": "code",
   "execution_count": 11,
   "metadata": {},
   "outputs": [
    {
     "name": "stderr",
     "output_type": "stream",
     "text": [
      "/home/absfbsxt/furniture/Furniture-Optimization/baseClass.py:608: ShapelyDeprecationWarning: The array interface is deprecated and will no longer work in Shapely 2.0. Convert the '.coords' to a numpy array instead.\n",
      "  group_Relation = self.calcGroupRelation(all_items_center,furniture_type,dR_room)\n",
      "/home/absfbsxt/furniture/Furniture-Optimization/baseClass.py:609: ShapelyDeprecationWarning: The array interface is deprecated and will no longer work in Shapely 2.0. Convert the '.coords' to a numpy array instead.\n",
      "  objectDistribution = self.calcObjDistrib(all_items_center)\n"
     ]
    }
   ],
   "source": [
    "# object_importance= np.array([1,1,3])\n",
    "# fittest_room = Room(Point(0,0), Point(100,100), 'Bed Room',object_importance)\n",
    "# # fittest_room.fit(furniture_list)\n",
    "# fittest_room.squeeze_fit(furniture_list)\n",
    "\n",
    "roomPoints= [geometry.Point(0,0),geometry.Point(100,0)\n",
    "                     ,geometry.Point(100,100),geometry.Point(0,100)]\n",
    "\n",
    "roomRect = sgp.Polygon([(0, 0), (100, 0), (100, 100), (0, 100)])\n",
    "\n",
    "minx, miny, maxx, maxy = roomRect.bounds\n",
    "\n",
    "width = maxx - minx\n",
    "height = maxy - miny\n",
    "dR_room = math.hypot(width, height)\n",
    "\n",
    "for count in range(5):\n",
    "    all_changed_rooms = []\n",
    "    all_changed_rooms_score = []\n",
    "\n",
    "    for count in range(5):\n",
    "\n",
    "        room_second_gen = randomly_change(fittest_room)\n",
    "        all_changed_rooms.append(room_second_gen)\n",
    "\n",
    "    for room in all_changed_rooms:\n",
    "\n",
    "        room_cost = room.cost_function(room.redAreas , roomPoints ,dR_room)\n",
    "        all_changed_rooms_score = np.append(all_changed_rooms_score\n",
    "                                                      , room_cost)\n",
    "    \n",
    "    smallest = np.partition(all_changed_rooms_score, 0)[0]\n",
    "    itemindex = np.where(all_changed_rooms_score==smallest)\n",
    "\n",
    "    curr_cost = fittest_room.cost_function(fittest_room.redAreas, roomPoints ,dR_room)\n",
    "    \n",
    "    \n",
    "    if(curr_cost > smallest):\n",
    "        fittest_room = all_changed_rooms[itemindex[0][0]]\n",
    "        \n"
   ]
  },
  {
   "cell_type": "code",
   "execution_count": 12,
   "metadata": {},
   "outputs": [
    {
     "data": {
      "image/png": "[encoded data removed]",
      "text/plain": [
       "<Figure size 432x288 with 1 Axes>"
      ]
     },
     "metadata": {
      "needs_background": "light"
     },
     "output_type": "display_data"
    }
   ],
   "source": [
    "plot_room(fittest_room.redAreas, fittest_room)"
   ]
  },
  {
   "cell_type": "code",
   "execution_count": null,
   "metadata": {},
   "outputs": [],
   "source": []
  },
  {
   "cell_type": "code",
   "execution_count": null,
   "metadata": {},
   "outputs": [],
   "source": []
  },
  {
   "cell_type": "code",
   "execution_count": 13,
   "metadata": {},
   "outputs": [],
   "source": [
    "fittest_room.pos_change(0,10)"
   ]
  },
  {
   "cell_type": "code",
   "execution_count": 14,
   "metadata": {},
   "outputs": [
    {
     "data": {
      "text/plain": [
       "True"
      ]
     },
     "execution_count": 14,
     "metadata": {},
     "output_type": "execute_result"
    }
   ],
   "source": [
    "fittest_room.rotate(0)"
   ]
  },
  {
   "cell_type": "code",
   "execution_count": 15,
   "metadata": {},
   "outputs": [
    {
     "data": {
      "text/plain": [
       "True"
      ]
     },
     "execution_count": 15,
     "metadata": {},
     "output_type": "execute_result"
    }
   ],
   "source": [
    "fittest_room.snap(furniture_list[0], \"object\")"
   ]
  },
  {
   "cell_type": "code",
   "execution_count": 16,
   "metadata": {},
   "outputs": [
    {
     "data": {
      "image/png": "[encoded data removed]",
      "text/plain": [
       "<Figure size 432x288 with 1 Axes>"
      ]
     },
     "metadata": {
      "needs_background": "light"
     },
     "output_type": "display_data"
    }
   ],
   "source": [
    "plot_room(fittest_room.redAreas, fittest_room)"
   ]
  },
  {
   "cell_type": "code",
   "execution_count": 17,
   "metadata": {},
   "outputs": [],
   "source": [
    "fittest_room.snap(furniture_list[0], \"wall\")"
   ]
  },
  {
   "cell_type": "code",
   "execution_count": 18,
   "metadata": {},
   "outputs": [
    {
     "data": {
      "image/png": "[encoded data removed]",
      "text/plain": [
       "<Figure size 432x288 with 1 Axes>"
      ]
     },
     "metadata": {
      "needs_background": "light"
     },
     "output_type": "display_data"
    }
   ],
   "source": [
    "plot_room(fittest_room.redAreas, fittest_room)"
   ]
  },
  {
   "cell_type": "code",
   "execution_count": null,
   "metadata": {},
   "outputs": [],
   "source": []
  },
  {
   "cell_type": "code",
   "execution_count": 19,
   "metadata": {},
   "outputs": [
    {
     "data": {
      "image/png": "[encoded data removed]",
      "text/plain": [
       "<Figure size 432x288 with 1 Axes>"
      ]
     },
     "metadata": {
      "needs_background": "light"
     },
     "output_type": "display_data"
    }
   ],
   "source": [
    "plot_room(fittest_room.redAreas, fittest_room)"
   ]
  },
  {
   "cell_type": "code",
   "execution_count": 20,
   "metadata": {},
   "outputs": [
    {
     "data": {
      "image/png": "[encoded data removed]",
      "text/plain": [
       "<Figure size 432x288 with 1 Axes>"
      ]
     },
     "metadata": {
      "needs_background": "light"
     },
     "output_type": "display_data"
    }
   ],
   "source": [
    "fittest_room.snap(furniture_list[3], \"wall\")\n",
    "plot_room(fittest_room.redAreas, fittest_room)"
   ]
  },
  {
   "cell_type": "code",
   "execution_count": 21,
   "metadata": {},
   "outputs": [
    {
     "data": {
      "image/png": "[encoded data removed]",
      "text/plain": [
       "<Figure size 432x288 with 1 Axes>"
      ]
     },
     "metadata": {
      "needs_background": "light"
     },
     "output_type": "display_data"
    }
   ],
   "source": [
    "fittest_room.snap(furniture_list[0], \"wall\")\n",
    "plot_room(fittest_room.redAreas, fittest_room)"
   ]
  },
  {
   "cell_type": "code",
   "execution_count": 4,
   "metadata": {},
   "outputs": [
    {
     "name": "stdout",
     "output_type": "stream",
     "text": [
      "[-10.25225519  16.55993125]\n"
     ]
    }
   ],
   "source": [
    "import numpy as np\n",
    "all_points = np.random.normal(0, 10, 2)\n",
    "print(all_points)"
   ]
  },
  {
   "cell_type": "code",
   "execution_count": 2,
   "metadata": {},
   "outputs": [
    {
     "name": "stdout",
     "output_type": "stream",
     "text": [
      "2\n",
      "10\n",
      "20\n",
      "7\n",
      "2\n",
      "10\n",
      "20\n",
      "7\n"
     ]
    },
    {
     "name": "stderr",
     "output_type": "stream",
     "text": [
      "/home/absfbsxt/furniture/Furniture-Optimization/baseClass.py:612: ShapelyDeprecationWarning: The array interface is deprecated and will no longer work in Shapely 2.0. Convert the '.coords' to a numpy array instead.\n",
      "  group_Relation = self.calcGroupRelation(all_items_center,furniture_type,dR_room)\n",
      "/home/absfbsxt/furniture/Furniture-Optimization/baseClass.py:613: ShapelyDeprecationWarning: The array interface is deprecated and will no longer work in Shapely 2.0. Convert the '.coords' to a numpy array instead.\n",
      "  objectDistribution = self.calcObjDistrib(all_items_center)\n"
     ]
    },
    {
     "ename": "AttributeError",
     "evalue": "'Group' object has no attribute 'rotation'",
     "output_type": "error",
     "traceback": [
      "\u001b[0;31m---------------------------------------------------------------------------\u001b[0m",
      "\u001b[0;31mAttributeError\u001b[0m                            Traceback (most recent call last)",
      "\u001b[0;32m<ipython-input-2-dc45c7a00bae>\u001b[0m in \u001b[0;36m<module>\u001b[0;34m\u001b[0m\n\u001b[1;32m     11\u001b[0m \u001b[0mGroup1\u001b[0m\u001b[0;34m.\u001b[0m\u001b[0mAdd\u001b[0m\u001b[0;34m(\u001b[0m\u001b[0mfurniture_list\u001b[0m\u001b[0;34m)\u001b[0m\u001b[0;34m\u001b[0m\u001b[0;34m\u001b[0m\u001b[0m\n\u001b[1;32m     12\u001b[0m \u001b[0;34m\u001b[0m\u001b[0m\n\u001b[0;32m---> 13\u001b[0;31m \u001b[0mGroup1\u001b[0m\u001b[0;34m.\u001b[0m\u001b[0msimulated_annealing\u001b[0m\u001b[0;34m(\u001b[0m\u001b[0;34m)\u001b[0m\u001b[0;34m\u001b[0m\u001b[0;34m\u001b[0m\u001b[0m\n\u001b[0m\u001b[1;32m     14\u001b[0m \u001b[0;34m\u001b[0m\u001b[0m\n",
      "\u001b[0;32m~/furniture/Furniture-Optimization/baseClass.py\u001b[0m in \u001b[0;36msimulated_annealing\u001b[0;34m(self)\u001b[0m\n\u001b[1;32m   1272\u001b[0m         \u001b[0mself\u001b[0m\u001b[0;34m.\u001b[0m\u001b[0mtemp\u001b[0m \u001b[0;34m=\u001b[0m \u001b[0mself\u001b[0m\u001b[0;34m.\u001b[0m\u001b[0mredAreas\u001b[0m\u001b[0;34m\u001b[0m\u001b[0;34m\u001b[0m\u001b[0m\n\u001b[1;32m   1273\u001b[0m         \u001b[0mDr_room\u001b[0m \u001b[0;34m=\u001b[0m \u001b[0mself\u001b[0m\u001b[0;34m.\u001b[0m\u001b[0mdr_room\u001b[0m\u001b[0;34m(\u001b[0m\u001b[0;34m)\u001b[0m\u001b[0;34m\u001b[0m\u001b[0;34m\u001b[0m\u001b[0m\n\u001b[0;32m-> 1274\u001b[0;31m         \u001b[0mc_0\u001b[0m \u001b[0;34m=\u001b[0m \u001b[0mself\u001b[0m\u001b[0;34m.\u001b[0m\u001b[0mcost_function\u001b[0m\u001b[0;34m(\u001b[0m\u001b[0mself\u001b[0m\u001b[0;34m.\u001b[0m\u001b[0mtemp\u001b[0m\u001b[0;34m,\u001b[0m \u001b[0mgroupPoints\u001b[0m\u001b[0;34m,\u001b[0m \u001b[0mDr_room\u001b[0m\u001b[0;34m)\u001b[0m\u001b[0;34m\u001b[0m\u001b[0;34m\u001b[0m\u001b[0m\n\u001b[0m\u001b[1;32m   1275\u001b[0m \u001b[0;34m\u001b[0m\u001b[0m\n\u001b[1;32m   1276\u001b[0m         \u001b[0mself\u001b[0m\u001b[0;34m.\u001b[0m\u001b[0mT\u001b[0m \u001b[0;34m=\u001b[0m \u001b[0mself\u001b[0m\u001b[0;34m.\u001b[0m\u001b[0mT_0\u001b[0m\u001b[0;34m\u001b[0m\u001b[0;34m\u001b[0m\u001b[0m\n",
      "\u001b[0;32m~/furniture/Furniture-Optimization/baseClass.py\u001b[0m in \u001b[0;36mcost_function\u001b[0;34m(self, objects_list, roomPoints, dR_room)\u001b[0m\n\u001b[1;32m    527\u001b[0m         groupRelationship_rythm_goldSec = self.group_relationship_transformation(objects_list,roomPoints,\n\u001b[1;32m    528\u001b[0m                                                                                dR_room )\n\u001b[0;32m--> 529\u001b[0;31m         \u001b[0malignment\u001b[0m \u001b[0;34m=\u001b[0m \u001b[0mself\u001b[0m\u001b[0;34m.\u001b[0m\u001b[0mAligment_transformation\u001b[0m\u001b[0;34m(\u001b[0m\u001b[0mobjects_list\u001b[0m \u001b[0;34m,\u001b[0m \u001b[0mdR_room\u001b[0m\u001b[0;34m)\u001b[0m\u001b[0;34m\u001b[0m\u001b[0;34m\u001b[0m\u001b[0m\n\u001b[0m\u001b[1;32m    530\u001b[0m \u001b[0;34m\u001b[0m\u001b[0m\n\u001b[1;32m    531\u001b[0m         \u001b[0mactual_amounts\u001b[0m \u001b[0;34m=\u001b[0m \u001b[0;34m{\u001b[0m\u001b[0;34m'Table'\u001b[0m\u001b[0;34m:\u001b[0m\u001b[0;36m2\u001b[0m\u001b[0;34m,\u001b[0m\u001b[0;34m'Chair'\u001b[0m\u001b[0;34m:\u001b[0m\u001b[0;36m2\u001b[0m\u001b[0;34m,\u001b[0m\u001b[0;34m'Bed'\u001b[0m\u001b[0;34m:\u001b[0m\u001b[0;36m2\u001b[0m\u001b[0;34m}\u001b[0m\u001b[0;34m\u001b[0m\u001b[0;34m\u001b[0m\u001b[0m\n",
      "\u001b[0;32m~/furniture/Furniture-Optimization/baseClass.py\u001b[0m in \u001b[0;36mAligment_transformation\u001b[0;34m(self, objects_list, dR_room)\u001b[0m\n\u001b[1;32m    625\u001b[0m             \u001b[0mx2\u001b[0m \u001b[0;34m=\u001b[0m \u001b[0mx1\u001b[0m \u001b[0;34m+\u001b[0m \u001b[0mint\u001b[0m\u001b[0;34m(\u001b[0m\u001b[0mitem\u001b[0m\u001b[0;34m[\u001b[0m\u001b[0;34m\"furniture\"\u001b[0m\u001b[0;34m]\u001b[0m\u001b[0;34m.\u001b[0m\u001b[0mtop_right\u001b[0m\u001b[0;34m.\u001b[0m\u001b[0mx\u001b[0m\u001b[0;34m)\u001b[0m\u001b[0;34m\u001b[0m\u001b[0;34m\u001b[0m\u001b[0m\n\u001b[1;32m    626\u001b[0m             \u001b[0my2\u001b[0m \u001b[0;34m=\u001b[0m \u001b[0my1\u001b[0m \u001b[0;34m+\u001b[0m \u001b[0mint\u001b[0m\u001b[0;34m(\u001b[0m\u001b[0mitem\u001b[0m\u001b[0;34m[\u001b[0m\u001b[0;34m\"furniture\"\u001b[0m\u001b[0;34m]\u001b[0m\u001b[0;34m.\u001b[0m\u001b[0mtop_right\u001b[0m\u001b[0;34m.\u001b[0m\u001b[0my\u001b[0m\u001b[0;34m)\u001b[0m\u001b[0;34m\u001b[0m\u001b[0;34m\u001b[0m\u001b[0m\n\u001b[0;32m--> 627\u001b[0;31m             \u001b[0;32mif\u001b[0m \u001b[0;34m(\u001b[0m\u001b[0mself\u001b[0m\u001b[0;34m.\u001b[0m\u001b[0mrotation\u001b[0m \u001b[0;34m==\u001b[0m \u001b[0;36m0\u001b[0m\u001b[0;34m)\u001b[0m\u001b[0;34m:\u001b[0m\u001b[0;34m\u001b[0m\u001b[0;34m\u001b[0m\u001b[0m\n\u001b[0m\u001b[1;32m    628\u001b[0m                 \u001b[0mfront\u001b[0m \u001b[0;34m=\u001b[0m \u001b[0mself\u001b[0m\u001b[0;34m.\u001b[0m\u001b[0mmidpoint\u001b[0m\u001b[0;34m(\u001b[0m\u001b[0mPoint\u001b[0m\u001b[0;34m(\u001b[0m\u001b[0mx1\u001b[0m\u001b[0;34m,\u001b[0m\u001b[0my1\u001b[0m\u001b[0;34m)\u001b[0m\u001b[0;34m,\u001b[0m\u001b[0mPoint\u001b[0m\u001b[0;34m(\u001b[0m\u001b[0mx2\u001b[0m\u001b[0;34m,\u001b[0m\u001b[0my1\u001b[0m\u001b[0;34m)\u001b[0m\u001b[0;34m)\u001b[0m\u001b[0;34m\u001b[0m\u001b[0;34m\u001b[0m\u001b[0m\n\u001b[1;32m    629\u001b[0m                 \u001b[0mback\u001b[0m \u001b[0;34m=\u001b[0m \u001b[0mself\u001b[0m\u001b[0;34m.\u001b[0m\u001b[0mmidpoint\u001b[0m\u001b[0;34m(\u001b[0m\u001b[0mPoint\u001b[0m\u001b[0;34m(\u001b[0m\u001b[0mx1\u001b[0m\u001b[0;34m,\u001b[0m\u001b[0my2\u001b[0m\u001b[0;34m)\u001b[0m\u001b[0;34m,\u001b[0m\u001b[0mPoint\u001b[0m\u001b[0;34m(\u001b[0m\u001b[0mx2\u001b[0m\u001b[0;34m,\u001b[0m\u001b[0my2\u001b[0m\u001b[0;34m)\u001b[0m\u001b[0;34m)\u001b[0m\u001b[0;34m\u001b[0m\u001b[0;34m\u001b[0m\u001b[0m\n",
      "\u001b[0;31mAttributeError\u001b[0m: 'Group' object has no attribute 'rotation'"
     ]
    }
   ],
   "source": [
    "\n",
    "\n",
    "\n",
    "p1=Furniture(Point(0,0), Point(10,12), 'Table',1)\n",
    "p2=Furniture(Point(0,0), Point(4,6), 'Chair',2, additional_attr = {'snap_direct':['back']})\n",
    "p3=Furniture(Point(0,0), Point(30,40), 'Bed',3)\n",
    "p4=Furniture(Point(0,0), Point(10,12), 'Table',1)\n",
    "p5=Furniture(Point(0,0), Point(8,12), 'Chair',2)\n",
    "p6=Furniture(Point(0,0), Point(20,40), 'Bed',3)\n",
    "furniture_list = [p1, p2, p3, p4, p5, p6]\n",
    "bottomleft = Point(0,0)\n",
    "topright = Point(30,40)\n",
    "Group1 = Group(Point(0,0), Point(30,40), 'Bed')\n",
    "Group1.Add(furniture_list)\n",
    "\n",
    "Group1.simulated_annealing()\n",
    "\n"
   ]
  },
  {
   "cell_type": "code",
   "execution_count": 3,
   "metadata": {},
   "outputs": [
    {
     "data": {
      "text/plain": [
       "4"
      ]
     },
     "execution_count": 3,
     "metadata": {},
     "output_type": "execute_result"
    }
   ],
   "source": []
  }
 ],
 "metadata": {
  "kernelspec": {
   "display_name": "Python 3",
   "language": "python",
   "name": "python3"
  },
  "language_info": {
   "codemirror_mode": {
    "name": "ipython",
    "version": 3
   },
   "file_extension": ".py",
   "mimetype": "text/x-python",
   "name": "python",
   "nbconvert_exporter": "python",
   "pygments_lexer": "ipython3",
   "version": "3.8.8"
  }
 },
 "nbformat": 4,
 "nbformat_minor": 2
}
